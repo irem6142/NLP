{
 "cells": [
  {
   "cell_type": "code",
   "execution_count": 215,
   "id": "4b84c08f-8b8a-4746-9c47-290907803ad5",
   "metadata": {},
   "outputs": [],
   "source": [
    "from warnings import filterwarnings\n",
    "import matplotlib.pyplot as plt\n",
    "import numpy as np\n",
    "import pandas as pd\n",
    "from PIL import Image\n",
    "from nltk.corpus import stopwords\n",
    "from nltk.sentiment import SentimentIntensityAnalyzer\n",
    "from sklearn.ensemble import RandomForestClassifier\n",
    "from sklearn.linear_model import LogisticRegression\n",
    "from sklearn.model_selection import cross_val_score, GridSearchCV, cross_validate\n",
    "from sklearn.preprocessing import LabelEncoder\n",
    "from textblob import Word, TextBlob\n",
    "from wordcloud import WordCloud"
   ]
  },
  {
   "cell_type": "code",
   "execution_count": 216,
   "id": "dcf5815a-6707-4e8f-b334-0d01c6b16349",
   "metadata": {},
   "outputs": [],
   "source": [
    "df=pd.read_excel(\"amazon.xlsx\")"
   ]
  },
  {
   "cell_type": "code",
   "execution_count": 217,
   "id": "a94d29e3-755d-4c84-aa36-b2b1db9561bf",
   "metadata": {},
   "outputs": [
    {
     "data": {
      "text/html": [
       "<div>\n",
       "<style scoped>\n",
       "    .dataframe tbody tr th:only-of-type {\n",
       "        vertical-align: middle;\n",
       "    }\n",
       "\n",
       "    .dataframe tbody tr th {\n",
       "        vertical-align: top;\n",
       "    }\n",
       "\n",
       "    .dataframe thead th {\n",
       "        text-align: right;\n",
       "    }\n",
       "</style>\n",
       "<table border=\"1\" class=\"dataframe\">\n",
       "  <thead>\n",
       "    <tr style=\"text-align: right;\">\n",
       "      <th></th>\n",
       "      <th>Star</th>\n",
       "      <th>HelpFul</th>\n",
       "      <th>Title</th>\n",
       "      <th>Review</th>\n",
       "    </tr>\n",
       "  </thead>\n",
       "  <tbody>\n",
       "    <tr>\n",
       "      <th>0</th>\n",
       "      <td>5</td>\n",
       "      <td>0</td>\n",
       "      <td>looks great</td>\n",
       "      <td>Happy with it</td>\n",
       "    </tr>\n",
       "    <tr>\n",
       "      <th>1</th>\n",
       "      <td>5</td>\n",
       "      <td>0</td>\n",
       "      <td>Pattern did not align between the two panels.</td>\n",
       "      <td>Good quality material however the panels are m...</td>\n",
       "    </tr>\n",
       "    <tr>\n",
       "      <th>2</th>\n",
       "      <td>5</td>\n",
       "      <td>0</td>\n",
       "      <td>Imagery is stretched. Still fun.</td>\n",
       "      <td>Product was fun for bedroom windows.&lt;br /&gt;Imag...</td>\n",
       "    </tr>\n",
       "    <tr>\n",
       "      <th>3</th>\n",
       "      <td>5</td>\n",
       "      <td>0</td>\n",
       "      <td>Que se ven elegantes muy finas</td>\n",
       "      <td>Lo unico que me gustaria es que sean un poco ...</td>\n",
       "    </tr>\n",
       "    <tr>\n",
       "      <th>4</th>\n",
       "      <td>5</td>\n",
       "      <td>0</td>\n",
       "      <td>Wow great purchase</td>\n",
       "      <td>Great bang for the buck I can't believe the qu...</td>\n",
       "    </tr>\n",
       "  </tbody>\n",
       "</table>\n",
       "</div>"
      ],
      "text/plain": [
       "   Star  HelpFul                                          Title  \\\n",
       "0     5        0                                    looks great   \n",
       "1     5        0  Pattern did not align between the two panels.   \n",
       "2     5        0               Imagery is stretched. Still fun.   \n",
       "3     5        0                 Que se ven elegantes muy finas   \n",
       "4     5        0                             Wow great purchase   \n",
       "\n",
       "                                              Review  \n",
       "0                                      Happy with it  \n",
       "1  Good quality material however the panels are m...  \n",
       "2  Product was fun for bedroom windows.<br />Imag...  \n",
       "3   Lo unico que me gustaria es que sean un poco ...  \n",
       "4  Great bang for the buck I can't believe the qu...  "
      ]
     },
     "execution_count": 217,
     "metadata": {},
     "output_type": "execute_result"
    }
   ],
   "source": [
    "df.head()"
   ]
  },
  {
   "cell_type": "markdown",
   "id": "bca5752d-3456-4433-90eb-67306a2cd864",
   "metadata": {},
   "source": [
    "### Ön İşleme"
   ]
  },
  {
   "cell_type": "markdown",
   "id": "428b1c27-5e01-4a5b-b6c2-a72a69757303",
   "metadata": {},
   "source": [
    "#### Yorumları küçük hale çevirdik"
   ]
  },
  {
   "cell_type": "code",
   "execution_count": 218,
   "id": "5aa02d16-ece3-4ae1-a691-28ee33603ced",
   "metadata": {},
   "outputs": [],
   "source": [
    "df[\"Review\"]=df[\"Review\"].str.lower()"
   ]
  },
  {
   "cell_type": "code",
   "execution_count": 219,
   "id": "6144edd6-ae50-4f5a-ad5f-5717a334f82e",
   "metadata": {},
   "outputs": [
    {
     "data": {
      "text/plain": [
       "0                                        happy with it\n",
       "1    good quality material however the panels are m...\n",
       "2    product was fun for bedroom windows.<br />imag...\n",
       "3     lo unico que me gustaria es que sean un poco ...\n",
       "4    great bang for the buck i can't believe the qu...\n",
       "Name: Review, dtype: object"
      ]
     },
     "execution_count": 219,
     "metadata": {},
     "output_type": "execute_result"
    }
   ],
   "source": [
    "df[\"Review\"][0:5]"
   ]
  },
  {
   "cell_type": "markdown",
   "id": "8759f276-133b-4b45-9d55-bdcda2017f38",
   "metadata": {},
   "source": [
    "#### Nok. işaretlerini çıkaralım"
   ]
  },
  {
   "cell_type": "code",
   "execution_count": 220,
   "id": "6a145ac9-a5bb-4a71-9584-4a1ec3be8f21",
   "metadata": {},
   "outputs": [],
   "source": [
    "df[\"Review\"]=df[\"Review\"].str.replace(r'[^\\w\\s]',' ',regex=True)"
   ]
  },
  {
   "cell_type": "code",
   "execution_count": 221,
   "id": "5e482d2a-1184-4159-890f-5fe445491bc3",
   "metadata": {},
   "outputs": [
    {
     "data": {
      "text/plain": [
       "0                                        happy with it\n",
       "1    good quality material however the panels are m...\n",
       "2    product was fun for bedroom windows  br   imag...\n",
       "3     lo unico que me gustaria es que sean un poco ...\n",
       "4    great bang for the buck i can t believe the qu...\n",
       "Name: Review, dtype: object"
      ]
     },
     "execution_count": 221,
     "metadata": {},
     "output_type": "execute_result"
    }
   ],
   "source": [
    "df[\"Review\"][0:5]"
   ]
  },
  {
   "cell_type": "markdown",
   "id": "2a74630d-e82b-4a6f-8227-cb168711fa03",
   "metadata": {},
   "source": [
    "#### Sayıları çıkaralım"
   ]
  },
  {
   "cell_type": "code",
   "execution_count": 222,
   "id": "4110b649-9fcf-4910-b22a-46cc28addb5c",
   "metadata": {},
   "outputs": [],
   "source": [
    "df[\"Review\"]=df[\"Review\"].str.replace('[\\d]',' ',regex=True)"
   ]
  },
  {
   "cell_type": "markdown",
   "id": "d977534b-7972-4f7d-baf5-aceba20d0829",
   "metadata": {},
   "source": [
    "### StopWordsleri çıkaralım"
   ]
  },
  {
   "cell_type": "code",
   "execution_count": 223,
   "id": "0b6dd354-ed7d-40cd-b339-fa0768c8c6b1",
   "metadata": {},
   "outputs": [
    {
     "name": "stderr",
     "output_type": "stream",
     "text": [
      "[nltk_data] Downloading package stopwords to\n",
      "[nltk_data]     C:\\Users\\iremu\\AppData\\Roaming\\nltk_data...\n",
      "[nltk_data]   Package stopwords is already up-to-date!\n"
     ]
    }
   ],
   "source": [
    "import nltk\n",
    "nltk.download(\"stopwords\")\n",
    "from nltk.corpus import  stopwords"
   ]
  },
  {
   "cell_type": "code",
   "execution_count": 224,
   "id": "c6a2ab7b-bbab-4199-8bc4-bd8a2ec4da82",
   "metadata": {},
   "outputs": [],
   "source": [
    "sw=stopwords.words(\"english\")"
   ]
  },
  {
   "cell_type": "code",
   "execution_count": 225,
   "id": "556694ee-287b-403f-8887-4f8ff4242d02",
   "metadata": {},
   "outputs": [],
   "source": [
    "df[\"Review\"]=df[\"Review\"].apply(lambda x :\" \".join(x for x in str(x).split() if x not in sw)) "
   ]
  },
  {
   "cell_type": "code",
   "execution_count": 226,
   "id": "75cc8248-1dc7-487c-93a3-890a7d35b43a",
   "metadata": {},
   "outputs": [
    {
     "data": {
      "text/plain": [
       "0                                               happy\n",
       "1    good quality material however panels mis matched\n",
       "Name: Review, dtype: object"
      ]
     },
     "execution_count": 226,
     "metadata": {},
     "output_type": "execute_result"
    }
   ],
   "source": [
    "df[\"Review\"].head(2)"
   ]
  },
  {
   "cell_type": "markdown",
   "id": "07ab363f-b4ac-4f0c-947a-d47962191cac",
   "metadata": {},
   "source": [
    "#### 1000'den az geçen kelimeleri veriden çıkarıyoruz"
   ]
  },
  {
   "cell_type": "code",
   "execution_count": 227,
   "id": "160066e3-9cba-4bc0-9f1e-ba51d1792350",
   "metadata": {},
   "outputs": [
    {
     "data": {
      "text/plain": [
       "curtains     1919\n",
       "love         1334\n",
       "room         1142\n",
       "like         1050\n",
       "beautiful     965\n",
       "             ... \n",
       "encantan        1\n",
       "seamed          1\n",
       "accessing       1\n",
       "shined          1\n",
       "sms             1\n",
       "Name: count, Length: 5804, dtype: int64"
      ]
     },
     "execution_count": 227,
     "metadata": {},
     "output_type": "execute_result"
    }
   ],
   "source": [
    "pd.Series(' '.join(df[\"Review\"]).split()).value_counts()"
   ]
  },
  {
   "cell_type": "code",
   "execution_count": 228,
   "id": "a3b567f0-4136-4b2b-ba6d-a40686dc3e4f",
   "metadata": {},
   "outputs": [
    {
     "data": {
      "text/plain": [
       "thumbnail    1\n",
       "edit         1\n",
       "torch        1\n",
       "burnt        1\n",
       "runway       1\n",
       "            ..\n",
       "encantan     1\n",
       "seamed       1\n",
       "accessing    1\n",
       "shined       1\n",
       "sms          1\n",
       "Name: count, Length: 1000, dtype: int64"
      ]
     },
     "execution_count": 228,
     "metadata": {},
     "output_type": "execute_result"
    }
   ],
   "source": [
    "pd.Series(' '.join(df[\"Review\"]).split()).value_counts()[-1000:]"
   ]
  },
  {
   "cell_type": "code",
   "execution_count": 229,
   "id": "f29dfd20-40e1-469c-bc9c-0a8d4ff28503",
   "metadata": {},
   "outputs": [],
   "source": [
    "temp_df=pd.Series(' '.join(df[\"Review\"]).split()).value_counts()[-1000:]"
   ]
  },
  {
   "cell_type": "code",
   "execution_count": 230,
   "id": "1dd6b66d-4412-435c-adc4-02f634e4d3fb",
   "metadata": {},
   "outputs": [],
   "source": [
    "df[\"Review\"]=df[\"Review\"].apply(lambda x :\" \".join(x for x in x.split() if x not in temp_df))"
   ]
  },
  {
   "cell_type": "code",
   "execution_count": 231,
   "id": "6f6a18ac-de7a-4019-8b40-0d0b6fdb7966",
   "metadata": {},
   "outputs": [
    {
     "data": {
      "text/plain": [
       "0                                                 happy\n",
       "1      good quality material however panels mis matched\n",
       "2     product fun bedroom windows br imagery bit str...\n",
       "3     lo unico que gustaria es que sean un poco mas ...\n",
       "4     great bang buck believe quality material vibra...\n",
       "5                                 looks different photo\n",
       "6     exactly looking heavy material great price shi...\n",
       "7     looking picture thought curtains would thinner...\n",
       "8     much whiter thought would really expecting wan...\n",
       "9     curtains picture shows rd set ambesonne curtai...\n",
       "10    blocks views living room front door kitchen di...\n",
       "11                       private closed darkening point\n",
       "12                                          block light\n",
       "13    work fine night curtains sheer daytime labeled...\n",
       "14                                                     \n",
       "Name: Review, dtype: object"
      ]
     },
     "execution_count": 231,
     "metadata": {},
     "output_type": "execute_result"
    }
   ],
   "source": [
    "df[\"Review\"].head(15)"
   ]
  },
  {
   "cell_type": "markdown",
   "id": "13324e6b-403a-4797-9d78-91494dc9c949",
   "metadata": {},
   "source": [
    "### Lemmatization"
   ]
  },
  {
   "cell_type": "code",
   "execution_count": 232,
   "id": "a4d9d4ac-3ee0-4969-9de8-38dec1ba792c",
   "metadata": {},
   "outputs": [
    {
     "name": "stderr",
     "output_type": "stream",
     "text": [
      "[nltk_data] Downloading package wordnet to\n",
      "[nltk_data]     C:\\Users\\iremu\\AppData\\Roaming\\nltk_data...\n",
      "[nltk_data]   Package wordnet is already up-to-date!\n"
     ]
    },
    {
     "data": {
      "text/plain": [
       "True"
      ]
     },
     "execution_count": 232,
     "metadata": {},
     "output_type": "execute_result"
    }
   ],
   "source": [
    "nltk.download(\"wordnet\")"
   ]
  },
  {
   "cell_type": "code",
   "execution_count": 233,
   "id": "32aaf92a-a851-4a88-8ee7-1a50d622d36e",
   "metadata": {},
   "outputs": [],
   "source": [
    "df[\"Review\"]=df[\"Review\"].apply(lambda x :\" \".join([Word(word).lemmatize() for word in x.split()]))"
   ]
  },
  {
   "cell_type": "markdown",
   "id": "2e5ea050-57f3-45a9-8c58-b76e4c06c2b6",
   "metadata": {},
   "source": [
    "### Metin Görselleştirme"
   ]
  },
  {
   "cell_type": "code",
   "execution_count": null,
   "id": "d6cbb2e0-035f-46c5-8bd1-56428e7cb4bd",
   "metadata": {},
   "outputs": [],
   "source": [
    "tf=df[\"Review\"].apply(lambda x : pd.value_counts(x.split(\" \"))).sum(axis=0).reset_index()"
   ]
  },
  {
   "cell_type": "code",
   "execution_count": 235,
   "id": "0b1e1f18-2217-49de-b9aa-bd20c63852a4",
   "metadata": {},
   "outputs": [
    {
     "data": {
      "text/html": [
       "<div>\n",
       "<style scoped>\n",
       "    .dataframe tbody tr th:only-of-type {\n",
       "        vertical-align: middle;\n",
       "    }\n",
       "\n",
       "    .dataframe tbody tr th {\n",
       "        vertical-align: top;\n",
       "    }\n",
       "\n",
       "    .dataframe thead th {\n",
       "        text-align: right;\n",
       "    }\n",
       "</style>\n",
       "<table border=\"1\" class=\"dataframe\">\n",
       "  <thead>\n",
       "    <tr style=\"text-align: right;\">\n",
       "      <th></th>\n",
       "      <th>index</th>\n",
       "      <th>0</th>\n",
       "    </tr>\n",
       "  </thead>\n",
       "  <tbody>\n",
       "    <tr>\n",
       "      <th>0</th>\n",
       "      <td>happy</td>\n",
       "      <td>203.0</td>\n",
       "    </tr>\n",
       "    <tr>\n",
       "      <th>1</th>\n",
       "      <td>good</td>\n",
       "      <td>542.0</td>\n",
       "    </tr>\n",
       "    <tr>\n",
       "      <th>2</th>\n",
       "      <td>quality</td>\n",
       "      <td>904.0</td>\n",
       "    </tr>\n",
       "  </tbody>\n",
       "</table>\n",
       "</div>"
      ],
      "text/plain": [
       "     index      0\n",
       "0    happy  203.0\n",
       "1     good  542.0\n",
       "2  quality  904.0"
      ]
     },
     "execution_count": 235,
     "metadata": {},
     "output_type": "execute_result"
    }
   ],
   "source": [
    "tf.head(3)"
   ]
  },
  {
   "cell_type": "code",
   "execution_count": 236,
   "id": "e5ef4605-b4e4-4b89-9da4-cf68826af179",
   "metadata": {},
   "outputs": [],
   "source": [
    "tf.columns=[\"words\",\"tf\"]"
   ]
  },
  {
   "cell_type": "code",
   "execution_count": 237,
   "id": "e2c90816-2038-4fa7-a170-76bb2f07e184",
   "metadata": {},
   "outputs": [
    {
     "data": {
      "text/html": [
       "<div>\n",
       "<style scoped>\n",
       "    .dataframe tbody tr th:only-of-type {\n",
       "        vertical-align: middle;\n",
       "    }\n",
       "\n",
       "    .dataframe tbody tr th {\n",
       "        vertical-align: top;\n",
       "    }\n",
       "\n",
       "    .dataframe thead th {\n",
       "        text-align: right;\n",
       "    }\n",
       "</style>\n",
       "<table border=\"1\" class=\"dataframe\">\n",
       "  <thead>\n",
       "    <tr style=\"text-align: right;\">\n",
       "      <th></th>\n",
       "      <th>words</th>\n",
       "      <th>tf</th>\n",
       "    </tr>\n",
       "  </thead>\n",
       "  <tbody>\n",
       "    <tr>\n",
       "      <th>0</th>\n",
       "      <td>happy</td>\n",
       "      <td>203.0</td>\n",
       "    </tr>\n",
       "    <tr>\n",
       "      <th>1</th>\n",
       "      <td>good</td>\n",
       "      <td>542.0</td>\n",
       "    </tr>\n",
       "    <tr>\n",
       "      <th>2</th>\n",
       "      <td>quality</td>\n",
       "      <td>904.0</td>\n",
       "    </tr>\n",
       "  </tbody>\n",
       "</table>\n",
       "</div>"
      ],
      "text/plain": [
       "     words     tf\n",
       "0    happy  203.0\n",
       "1     good  542.0\n",
       "2  quality  904.0"
      ]
     },
     "execution_count": 237,
     "metadata": {},
     "output_type": "execute_result"
    }
   ],
   "source": [
    "tf.head(3)"
   ]
  },
  {
   "cell_type": "code",
   "execution_count": 238,
   "id": "a9c647c1-5e4c-4a08-8bfc-630f2121a44d",
   "metadata": {},
   "outputs": [],
   "source": [
    "import matplotlib.pyplot as plt"
   ]
  },
  {
   "cell_type": "code",
   "execution_count": 239,
   "id": "d8ba8a15-177e-4c39-9879-7697efecda66",
   "metadata": {},
   "outputs": [
    {
     "data": {
      "image/png": "[encoded data removed]",
      "text/plain": [
       "<Figure size 640x480 with 1 Axes>"
      ]
     },
     "metadata": {},
     "output_type": "display_data"
    }
   ],
   "source": [
    "tf[tf[\"tf\"]>500].plot.bar(x=\"words\",y=\"tf\")\n",
    "plt.xticks(rotation=75)\n",
    "plt.show()"
   ]
  },
  {
   "cell_type": "markdown",
   "id": "d48ba619-7ad4-44fc-aac7-6e1110a07ce4",
   "metadata": {},
   "source": [
    "### Word Cloud"
   ]
  },
  {
   "cell_type": "code",
   "execution_count": 240,
   "id": "396515fc-dacd-4d38-9b85-d6e1634aca44",
   "metadata": {},
   "outputs": [],
   "source": [
    "text=\" \".join(i for i in df.Review)"
   ]
  },
  {
   "cell_type": "code",
   "execution_count": 241,
   "id": "7305cb1a-e557-4b62-a0b1-d58fea1438ce",
   "metadata": {},
   "outputs": [],
   "source": [
    "from wordcloud import WordCloud\n",
    "wordCloud=WordCloud().generate(text)"
   ]
  },
  {
   "cell_type": "code",
   "execution_count": 242,
   "id": "3ca53766-6308-46d2-9106-dcfe0ab3e0e7",
   "metadata": {},
   "outputs": [
    {
     "data": {
      "image/png": "[encoded data removed]",
      "text/plain": [
       "<Figure size 640x480 with 1 Axes>"
      ]
     },
     "metadata": {},
     "output_type": "display_data"
    }
   ],
   "source": [
    "plt.imshow(wordCloud,interpolation=\"bilinear\")\n",
    "plt.axis(\"off\")\n",
    "plt.show()"
   ]
  },
  {
   "cell_type": "markdown",
   "id": "cfee2f7c-670d-434f-a8f1-0df2f230627a",
   "metadata": {},
   "source": [
    "### Sentiment Analysis"
   ]
  },
  {
   "cell_type": "code",
   "execution_count": 243,
   "id": "f93830e3-f4fd-46c7-a34f-eb555c575886",
   "metadata": {},
   "outputs": [
    {
     "data": {
      "text/html": [
       "<div>\n",
       "<style scoped>\n",
       "    .dataframe tbody tr th:only-of-type {\n",
       "        vertical-align: middle;\n",
       "    }\n",
       "\n",
       "    .dataframe tbody tr th {\n",
       "        vertical-align: top;\n",
       "    }\n",
       "\n",
       "    .dataframe thead th {\n",
       "        text-align: right;\n",
       "    }\n",
       "</style>\n",
       "<table border=\"1\" class=\"dataframe\">\n",
       "  <thead>\n",
       "    <tr style=\"text-align: right;\">\n",
       "      <th></th>\n",
       "      <th>Star</th>\n",
       "      <th>HelpFul</th>\n",
       "      <th>Title</th>\n",
       "      <th>Review</th>\n",
       "    </tr>\n",
       "  </thead>\n",
       "  <tbody>\n",
       "    <tr>\n",
       "      <th>0</th>\n",
       "      <td>5</td>\n",
       "      <td>0</td>\n",
       "      <td>looks great</td>\n",
       "      <td>happy</td>\n",
       "    </tr>\n",
       "    <tr>\n",
       "      <th>1</th>\n",
       "      <td>5</td>\n",
       "      <td>0</td>\n",
       "      <td>Pattern did not align between the two panels.</td>\n",
       "      <td>good quality material however panel mi matched</td>\n",
       "    </tr>\n",
       "    <tr>\n",
       "      <th>2</th>\n",
       "      <td>5</td>\n",
       "      <td>0</td>\n",
       "      <td>Imagery is stretched. Still fun.</td>\n",
       "      <td>product fun bedroom window br imagery bit stre...</td>\n",
       "    </tr>\n",
       "    <tr>\n",
       "      <th>3</th>\n",
       "      <td>5</td>\n",
       "      <td>0</td>\n",
       "      <td>Que se ven elegantes muy finas</td>\n",
       "      <td>lo unico que gustaria e que sean un poco ma la...</td>\n",
       "    </tr>\n",
       "    <tr>\n",
       "      <th>4</th>\n",
       "      <td>5</td>\n",
       "      <td>0</td>\n",
       "      <td>Wow great purchase</td>\n",
       "      <td>great bang buck believe quality material vibra...</td>\n",
       "    </tr>\n",
       "    <tr>\n",
       "      <th>5</th>\n",
       "      <td>5</td>\n",
       "      <td>0</td>\n",
       "      <td>Not for us</td>\n",
       "      <td>look different photo</td>\n",
       "    </tr>\n",
       "    <tr>\n",
       "      <th>6</th>\n",
       "      <td>5</td>\n",
       "      <td>0</td>\n",
       "      <td>Perfect for spa room</td>\n",
       "      <td>exactly looking heavy material great price shi...</td>\n",
       "    </tr>\n",
       "    <tr>\n",
       "      <th>7</th>\n",
       "      <td>5</td>\n",
       "      <td>0</td>\n",
       "      <td>Actually better than expected</td>\n",
       "      <td>looking picture thought curtain would thinner ...</td>\n",
       "    </tr>\n",
       "    <tr>\n",
       "      <th>8</th>\n",
       "      <td>4</td>\n",
       "      <td>0</td>\n",
       "      <td>Not what expected</td>\n",
       "      <td>much whiter thought would really expecting wan...</td>\n",
       "    </tr>\n",
       "    <tr>\n",
       "      <th>9</th>\n",
       "      <td>5</td>\n",
       "      <td>0</td>\n",
       "      <td>Pretty as a Picture</td>\n",
       "      <td>curtain picture show rd set ambesonne curtain ...</td>\n",
       "    </tr>\n",
       "  </tbody>\n",
       "</table>\n",
       "</div>"
      ],
      "text/plain": [
       "   Star  HelpFul                                          Title  \\\n",
       "0     5        0                                    looks great   \n",
       "1     5        0  Pattern did not align between the two panels.   \n",
       "2     5        0               Imagery is stretched. Still fun.   \n",
       "3     5        0                 Que se ven elegantes muy finas   \n",
       "4     5        0                             Wow great purchase   \n",
       "5     5        0                                     Not for us   \n",
       "6     5        0                           Perfect for spa room   \n",
       "7     5        0                  Actually better than expected   \n",
       "8     4        0                              Not what expected   \n",
       "9     5        0                            Pretty as a Picture   \n",
       "\n",
       "                                              Review  \n",
       "0                                              happy  \n",
       "1     good quality material however panel mi matched  \n",
       "2  product fun bedroom window br imagery bit stre...  \n",
       "3  lo unico que gustaria e que sean un poco ma la...  \n",
       "4  great bang buck believe quality material vibra...  \n",
       "5                               look different photo  \n",
       "6  exactly looking heavy material great price shi...  \n",
       "7  looking picture thought curtain would thinner ...  \n",
       "8  much whiter thought would really expecting wan...  \n",
       "9  curtain picture show rd set ambesonne curtain ...  "
      ]
     },
     "execution_count": 243,
     "metadata": {},
     "output_type": "execute_result"
    }
   ],
   "source": [
    "df.head(10)"
   ]
  },
  {
   "cell_type": "code",
   "execution_count": 244,
   "id": "74be6d7f-0f02-4019-a9ec-2675b040ada0",
   "metadata": {},
   "outputs": [],
   "source": [
    "from vaderSentiment.vaderSentiment import SentimentIntensityAnalyzer"
   ]
  },
  {
   "cell_type": "code",
   "execution_count": 245,
   "id": "c075d9dc-dcd9-4963-b720-6e0f631271b3",
   "metadata": {},
   "outputs": [],
   "source": [
    "sia=SentimentIntensityAnalyzer()"
   ]
  },
  {
   "cell_type": "code",
   "execution_count": 246,
   "id": "168a526c-885f-4854-bc60-f02dcd65de18",
   "metadata": {},
   "outputs": [
    {
     "data": {
      "text/plain": [
       "{'neg': 0.0, 'neu': 1.0, 'pos': 0.0, 'compound': 0.0}"
      ]
     },
     "execution_count": 246,
     "metadata": {},
     "output_type": "execute_result"
    }
   ],
   "source": [
    "sia.polarity_scores(\"curtain\")"
   ]
  },
  {
   "cell_type": "markdown",
   "id": "1d32e7e2-57ee-4055-ae13-c5f7ff677436",
   "metadata": {},
   "source": [
    "#### Review değişkeninin ilk 10 gözlemi için polarity_scores() "
   ]
  },
  {
   "cell_type": "code",
   "execution_count": 247,
   "id": "7d335d53-1511-4fa6-a761-c2dcc6906cea",
   "metadata": {},
   "outputs": [],
   "source": [
    "review_10=df[\"Review\"].head(10)"
   ]
  },
  {
   "cell_type": "code",
   "execution_count": 248,
   "id": "73a0b657-ac4c-4ca2-8d95-1026f30ee189",
   "metadata": {},
   "outputs": [
    {
     "data": {
      "text/plain": [
       "0    {'neg': 0.0, 'neu': 0.0, 'pos': 1.0, 'compound...\n",
       "1    {'neg': 0.0, 'neu': 0.674, 'pos': 0.326, 'comp...\n",
       "2    {'neg': 0.0, 'neu': 0.563, 'pos': 0.437, 'comp...\n",
       "3    {'neg': 0.0, 'neu': 1.0, 'pos': 0.0, 'compound...\n",
       "4    {'neg': 0.0, 'neu': 0.495, 'pos': 0.505, 'comp...\n",
       "5    {'neg': 0.0, 'neu': 1.0, 'pos': 0.0, 'compound...\n",
       "6    {'neg': 0.0, 'neu': 0.631, 'pos': 0.369, 'comp...\n",
       "7    {'neg': 0.0, 'neu': 0.578, 'pos': 0.422, 'comp...\n",
       "8    {'neg': 0.0, 'neu': 1.0, 'pos': 0.0, 'compound...\n",
       "9    {'neg': 0.0, 'neu': 0.772, 'pos': 0.228, 'comp...\n",
       "Name: Review, dtype: object"
      ]
     },
     "execution_count": 248,
     "metadata": {},
     "output_type": "execute_result"
    }
   ],
   "source": [
    "review_10.apply(lambda x :sia.polarity_scores(x))"
   ]
  },
  {
   "cell_type": "code",
   "execution_count": 249,
   "id": "927e80ac-8370-4b27-becd-26eb50939e21",
   "metadata": {},
   "outputs": [
    {
     "data": {
      "text/plain": [
       "0    0.5719\n",
       "1    0.4404\n",
       "2    0.8519\n",
       "3    0.0000\n",
       "4    0.9042\n",
       "5    0.0000\n",
       "6    0.6249\n",
       "7    0.9080\n",
       "8    0.0000\n",
       "9    0.7096\n",
       "Name: Review, dtype: float64"
      ]
     },
     "execution_count": 249,
     "metadata": {},
     "output_type": "execute_result"
    }
   ],
   "source": [
    "review_10.apply(lambda x :sia.polarity_scores(x)[\"compound\"])"
   ]
  },
  {
   "cell_type": "code",
   "execution_count": 250,
   "id": "8be6812b-3dc5-44f2-bd31-0f60eaeb8b98",
   "metadata": {},
   "outputs": [
    {
     "data": {
      "text/plain": [
       "0    pos\n",
       "1    pos\n",
       "2    pos\n",
       "3    neg\n",
       "4    pos\n",
       "5    neg\n",
       "6    pos\n",
       "7    pos\n",
       "8    neg\n",
       "9    pos\n",
       "Name: Review, dtype: object"
      ]
     },
     "execution_count": 250,
     "metadata": {},
     "output_type": "execute_result"
    }
   ],
   "source": [
    "review_10.apply(lambda x :\"pos\" if  sia.polarity_scores(x)[\"compound\"] >0  else \"neg\")"
   ]
  },
  {
   "cell_type": "markdown",
   "id": "04d8aec7-e79c-4f8b-9ae8-15a2bd82ebf9",
   "metadata": {},
   "source": [
    "### 0.50'den büyükse pos,değilse neg"
   ]
  },
  {
   "cell_type": "code",
   "execution_count": 251,
   "id": "a06d31cf-5baa-4566-b5f0-f292a1b2cdef",
   "metadata": {},
   "outputs": [],
   "source": [
    "df[\"polarity_score\"]=df[\"Review\"].apply(lambda x : \"pos\" if sia.polarity_scores(x)[\"compound\"]>0.50 else \"neg\")       "
   ]
  },
  {
   "cell_type": "code",
   "execution_count": 252,
   "id": "54fff487-75b5-4c34-b6eb-b7e521b99111",
   "metadata": {},
   "outputs": [
    {
     "data": {
      "text/plain": [
       "polarity_score\n",
       "pos    3980\n",
       "neg    1631\n",
       "Name: count, dtype: int64"
      ]
     },
     "execution_count": 252,
     "metadata": {},
     "output_type": "execute_result"
    }
   ],
   "source": [
    "df[\"polarity_score\"].value_counts()"
   ]
  },
  {
   "cell_type": "code",
   "execution_count": 253,
   "id": "2de46ddc-b494-475b-bdd1-fee53dcfacb6",
   "metadata": {},
   "outputs": [],
   "source": [
    "#df[\"polarity_score\"]=LabelEncoder().fit_transform(df[\"polarity_score\"])"
   ]
  },
  {
   "cell_type": "markdown",
   "id": "c1b84711-0bbf-4235-859b-dce806fc7227",
   "metadata": {},
   "source": [
    "#### Bağımlı - Bağımsız Değişkenler"
   ]
  },
  {
   "cell_type": "code",
   "execution_count": 254,
   "id": "a610b125-7872-4cba-8869-9446c6557755",
   "metadata": {},
   "outputs": [],
   "source": [
    "y=df[\"polarity_score\"]\n",
    "X=df[\"Review\"]"
   ]
  },
  {
   "cell_type": "code",
   "execution_count": 255,
   "id": "1e59ef88-ba74-4e2c-a2df-9136823c8cc0",
   "metadata": {},
   "outputs": [],
   "source": [
    "from sklearn.model_selection import train_test_split"
   ]
  },
  {
   "cell_type": "code",
   "execution_count": 256,
   "id": "763bfb4d-213e-4488-b4cb-4649a2aa8ce1",
   "metadata": {},
   "outputs": [],
   "source": [
    "X_train,X_test,y_train,y_test=train_test_split(X,y,test_size=0.2,random_state=42)"
   ]
  },
  {
   "cell_type": "markdown",
   "id": "eb4c2b6a-18f1-4336-b04b-7ce439a95bd2",
   "metadata": {},
   "source": [
    "### TF-IDF"
   ]
  },
  {
   "cell_type": "code",
   "execution_count": 257,
   "id": "f4305740-93d6-4b81-9f99-ebf392976752",
   "metadata": {},
   "outputs": [],
   "source": [
    "from sklearn.feature_extraction.text import TfidfVectorizer"
   ]
  },
  {
   "cell_type": "code",
   "execution_count": 258,
   "id": "77b40ca6-3d81-4cc9-9948-78836c007a3e",
   "metadata": {},
   "outputs": [],
   "source": [
    "tf_idf_word_vectorizer=TfidfVectorizer()"
   ]
  },
  {
   "cell_type": "code",
   "execution_count": 259,
   "id": "49cbf582-653b-4686-9c4e-9b8b2c6b6825",
   "metadata": {},
   "outputs": [
    {
     "data": {
      "text/html": [
       "<style>#sk-container-id-4 {color: black;background-color: white;}#sk-container-id-4 pre{padding: 0;}#sk-container-id-4 div.sk-toggleable {background-color: white;}#sk-container-id-4 label.sk-toggleable__label {cursor: pointer;display: block;width: 100%;margin-bottom: 0;padding: 0.3em;box-sizing: border-box;text-align: center;}#sk-container-id-4 label.sk-toggleable__label-arrow:before {content: \"▸\";float: left;margin-right: 0.25em;color: #696969;}#sk-container-id-4 label.sk-toggleable__label-arrow:hover:before {color: black;}#sk-container-id-4 div.sk-estimator:hover label.sk-toggleable__label-arrow:before {color: black;}#sk-container-id-4 div.sk-toggleable__content {max-height: 0;max-width: 0;overflow: hidden;text-align: left;background-color: #f0f8ff;}#sk-container-id-4 div.sk-toggleable__content pre {margin: 0.2em;color: black;border-radius: 0.25em;background-color: #f0f8ff;}#sk-container-id-4 input.sk-toggleable__control:checked~div.sk-toggleable__content {max-height: 200px;max-width: 100%;overflow: auto;}#sk-container-id-4 input.sk-toggleable__control:checked~label.sk-toggleable__label-arrow:before {content: \"▾\";}#sk-container-id-4 div.sk-estimator input.sk-toggleable__control:checked~label.sk-toggleable__label {background-color: #d4ebff;}#sk-container-id-4 div.sk-label input.sk-toggleable__control:checked~label.sk-toggleable__label {background-color: #d4ebff;}#sk-container-id-4 input.sk-hidden--visually {border: 0;clip: rect(1px 1px 1px 1px);clip: rect(1px, 1px, 1px, 1px);height: 1px;margin: -1px;overflow: hidden;padding: 0;position: absolute;width: 1px;}#sk-container-id-4 div.sk-estimator {font-family: monospace;background-color: #f0f8ff;border: 1px dotted black;border-radius: 0.25em;box-sizing: border-box;margin-bottom: 0.5em;}#sk-container-id-4 div.sk-estimator:hover {background-color: #d4ebff;}#sk-container-id-4 div.sk-parallel-item::after {content: \"\";width: 100%;border-bottom: 1px solid gray;flex-grow: 1;}#sk-container-id-4 div.sk-label:hover label.sk-toggleable__label {background-color: #d4ebff;}#sk-container-id-4 div.sk-serial::before {content: \"\";position: absolute;border-left: 1px solid gray;box-sizing: border-box;top: 0;bottom: 0;left: 50%;z-index: 0;}#sk-container-id-4 div.sk-serial {display: flex;flex-direction: column;align-items: center;background-color: white;padding-right: 0.2em;padding-left: 0.2em;position: relative;}#sk-container-id-4 div.sk-item {position: relative;z-index: 1;}#sk-container-id-4 div.sk-parallel {display: flex;align-items: stretch;justify-content: center;background-color: white;position: relative;}#sk-container-id-4 div.sk-item::before, #sk-container-id-4 div.sk-parallel-item::before {content: \"\";position: absolute;border-left: 1px solid gray;box-sizing: border-box;top: 0;bottom: 0;left: 50%;z-index: -1;}#sk-container-id-4 div.sk-parallel-item {display: flex;flex-direction: column;z-index: 1;position: relative;background-color: white;}#sk-container-id-4 div.sk-parallel-item:first-child::after {align-self: flex-end;width: 50%;}#sk-container-id-4 div.sk-parallel-item:last-child::after {align-self: flex-start;width: 50%;}#sk-container-id-4 div.sk-parallel-item:only-child::after {width: 0;}#sk-container-id-4 div.sk-dashed-wrapped {border: 1px dashed gray;margin: 0 0.4em 0.5em 0.4em;box-sizing: border-box;padding-bottom: 0.4em;background-color: white;}#sk-container-id-4 div.sk-label label {font-family: monospace;font-weight: bold;display: inline-block;line-height: 1.2em;}#sk-container-id-4 div.sk-label-container {text-align: center;}#sk-container-id-4 div.sk-container {/* jupyter's `normalize.less` sets `[hidden] { display: none; }` but bootstrap.min.css set `[hidden] { display: none !important; }` so we also need the `!important` here to be able to override the default hidden behavior on the sphinx rendered scikit-learn.org. See: https://github.com/scikit-learn/scikit-learn/issues/21755 */display: inline-block !important;position: relative;}#sk-container-id-4 div.sk-text-repr-fallback {display: none;}</style><div id=\"sk-container-id-4\" class=\"sk-top-container\"><div class=\"sk-text-repr-fallback\"><pre>TfidfVectorizer()</pre><b>In a Jupyter environment, please rerun this cell to show the HTML representation or trust the notebook. <br />On GitHub, the HTML representation is unable to render, please try loading this page with nbviewer.org.</b></div><div class=\"sk-container\" hidden><div class=\"sk-item\"><div class=\"sk-estimator sk-toggleable\"><input class=\"sk-toggleable__control sk-hidden--visually\" id=\"sk-estimator-id-4\" type=\"checkbox\" checked><label for=\"sk-estimator-id-4\" class=\"sk-toggleable__label sk-toggleable__label-arrow\">TfidfVectorizer</label><div class=\"sk-toggleable__content\"><pre>TfidfVectorizer()</pre></div></div></div></div></div>"
      ],
      "text/plain": [
       "TfidfVectorizer()"
      ]
     },
     "execution_count": 259,
     "metadata": {},
     "output_type": "execute_result"
    }
   ],
   "source": [
    "tf_idf_word_vectorizer.fit(X_train)"
   ]
  },
  {
   "cell_type": "code",
   "execution_count": 265,
   "id": "117391ce-df60-4202-9032-9bcc73ec9f4c",
   "metadata": {},
   "outputs": [],
   "source": [
    "X_train_tf_idf_word=tf_idf_word_vectorizer.transform(X_train)"
   ]
  },
  {
   "cell_type": "code",
   "execution_count": 266,
   "id": "d5de2bcc-f974-482c-ba40-6c99fe1f0bff",
   "metadata": {},
   "outputs": [],
   "source": [
    "X_test_tf_idf_word=tf_idf_word_vectorizer.transform(X_test)"
   ]
  },
  {
   "cell_type": "markdown",
   "id": "dc2a064c-533c-4ba6-99cc-49915126ad66",
   "metadata": {},
   "source": [
    "### Logistic Regresyon"
   ]
  },
  {
   "cell_type": "code",
   "execution_count": 267,
   "id": "cbe0396f-0204-465c-a98f-e94c08ebbb6f",
   "metadata": {},
   "outputs": [],
   "source": [
    "log_model=LogisticRegression().fit(X_train_tf_idf_word,y_train)"
   ]
  },
  {
   "cell_type": "code",
   "execution_count": 268,
   "id": "30b01d44-12dd-49a7-b761-bd0924cd6f94",
   "metadata": {},
   "outputs": [],
   "source": [
    "y_pred=log_model.predict(X_test_tf_idf_word)"
   ]
  },
  {
   "cell_type": "code",
   "execution_count": 271,
   "id": "15ea7358-af46-45a3-97a9-d397909b69fa",
   "metadata": {},
   "outputs": [],
   "source": [
    "from sklearn.metrics import classification_report\n"
   ]
  },
  {
   "cell_type": "code",
   "execution_count": 273,
   "id": "5ddc84ea-e25f-452e-9ec4-3bbe512cd72b",
   "metadata": {},
   "outputs": [
    {
     "name": "stdout",
     "output_type": "stream",
     "text": [
      "              precision    recall  f1-score   support\n",
      "\n",
      "         neg       0.77      0.86      0.81       304\n",
      "         pos       0.94      0.91      0.92       819\n",
      "\n",
      "    accuracy                           0.89      1123\n",
      "   macro avg       0.86      0.88      0.87      1123\n",
      "weighted avg       0.90      0.89      0.89      1123\n",
      "\n"
     ]
    }
   ],
   "source": [
    "classification_report(y_pred,y_test)"
   ]
  },
  {
   "cell_type": "code",
   "execution_count": 274,
   "id": "d5bff06b-9351-4219-890c-cf0bdd4b4697",
   "metadata": {},
   "outputs": [
    {
     "data": {
      "text/plain": [
       "0.7996587301587302"
      ]
     },
     "execution_count": 274,
     "metadata": {},
     "output_type": "execute_result"
    }
   ],
   "source": [
    "cross_val_score(log_model,\n",
    "                X_test_tf_idf_word,\n",
    "                y_test,scoring=\"accuracy\",\n",
    "                cv=5).mean()\n"
   ]
  },
  {
   "cell_type": "code",
   "execution_count": 289,
   "id": "ddeb99ef-7020-4863-be46-4299c639ba47",
   "metadata": {},
   "outputs": [],
   "source": [
    "rf_model=RandomForestClassifier().fit(X_train_tf_idf_word,y_train)"
   ]
  },
  {
   "cell_type": "code",
   "execution_count": 290,
   "id": "2f5a776a-1f07-4779-bb49-4a12c84428ce",
   "metadata": {},
   "outputs": [
    {
     "data": {
      "text/plain": [
       "0.8611230158730159"
      ]
     },
     "execution_count": 290,
     "metadata": {},
     "output_type": "execute_result"
    }
   ],
   "source": [
    "cross_val_score(rf_model,X_test_tf_idf_word,y_test,cv=5,n_jobs=-1).mean()"
   ]
  }
 ],
 "metadata": {
  "kernelspec": {
   "display_name": "Python 3 (ipykernel)",
   "language": "python",
   "name": "python3"
  },
  "language_info": {
   "codemirror_mode": {
    "name": "ipython",
    "version": 3
   },
   "file_extension": ".py",
   "mimetype": "text/x-python",
   "name": "python",
   "nbconvert_exporter": "python",
   "pygments_lexer": "ipython3",
   "version": "3.11.7"
  }
 },
 "nbformat": 4,
 "nbformat_minor": 5
}
